{
 "cells": [
  {
   "cell_type": "code",
   "execution_count": 4,
   "id": "6279535d",
   "metadata": {},
   "outputs": [
    {
     "name": "stdout",
     "output_type": "stream",
     "text": [
      "5 2\n",
      "2 3\n",
      "5 4\n",
      "6 1\n",
      "8 2\n",
      "3 6\n"
     ]
    },
    {
     "data": {
      "text/plain": [
       "[[2, 3], [5, 4], [6, 1], [8, 2], [3, 6]]"
      ]
     },
     "execution_count": 4,
     "metadata": {},
     "output_type": "execute_result"
    }
   ],
   "source": [
    "size = input().split()\n",
    "m = int(size[0])\n",
    "n = int(size[1])\n",
    "l = []\n",
    "\n",
    "for i in range(m):\n",
    "    row = [int(i) for i in input().split()]\n",
    "    l.append(row)\n",
    "l\n",
    "\n"
   ]
  },
  {
   "cell_type": "code",
   "execution_count": 9,
   "id": "c44abcaf",
   "metadata": {},
   "outputs": [
    {
     "data": {
      "text/plain": [
       "[6, 20, 6, 16, 18]"
      ]
     },
     "execution_count": 9,
     "metadata": {},
     "output_type": "execute_result"
    }
   ],
   "source": [
    "area = []\n",
    "for i in range(m):\n",
    "    area.append(l[i][0]*l[i][1])\n",
    "area"
   ]
  },
  {
   "cell_type": "code",
   "execution_count": 17,
   "id": "c1b4d496",
   "metadata": {},
   "outputs": [
    {
     "name": "stdout",
     "output_type": "stream",
     "text": [
      "[2, 3] [6, 1]\n"
     ]
    }
   ],
   "source": [
    "min_ = max(area)\n",
    "first = 0\n",
    "second = 0\n",
    "\n",
    "for i in range(m):\n",
    "    for j in range(m):\n",
    "        if min_ > abs(area[i]-area[j]) and i!=j:\n",
    "            min_ = abs(area[i]-area[j])\n",
    "            first = i\n",
    "            second = j\n",
    "print(l[first],l[second])\n",
    "        \n",
    "        \n",
    "        "
   ]
  },
  {
   "cell_type": "code",
   "execution_count": 22,
   "id": "fb65fc9c",
   "metadata": {},
   "outputs": [
    {
     "name": "stdout",
     "output_type": "stream",
     "text": [
      "{2}\n",
      "{2, 3}\n",
      "Found a sunbarray with 0 sum\n"
     ]
    }
   ],
   "source": [
    "def subArrayExists(arr, n):\n",
    "    # traverse through array\n",
    "    # and store prefix sums\n",
    "    n_sum = 0\n",
    "    s = set()\n",
    " \n",
    "    for i in range(n):\n",
    "        n_sum += arr[i]\n",
    " \n",
    "        # If prefix sum is 0 or\n",
    "        # it is already present\n",
    "        if n_sum == 0 or n_sum in s:\n",
    "            return True\n",
    "        s.add(n_sum)\n",
    "        print(s)\n",
    " \n",
    "    return False\n",
    " \n",
    "\n",
    "# Driver code\n",
    "arr = [2, 1, -3,4]\n",
    "n = len(arr)\n",
    "if subArrayExists(arr, n) == True:\n",
    "    print(\"Found a sunbarray with 0 sum\")\n",
    "else:\n",
    "    print(\"No Such sub array exits!\")"
   ]
  },
  {
   "cell_type": "code",
   "execution_count": 3,
   "id": "f421595b",
   "metadata": {},
   "outputs": [],
   "source": [
    "import numpy as np"
   ]
  },
  {
   "cell_type": "code",
   "execution_count": 5,
   "id": "4566a953",
   "metadata": {},
   "outputs": [
    {
     "data": {
      "text/plain": [
       "array([[1, 1, 1, 1],\n",
       "       [1, 1, 1, 1],\n",
       "       [1, 1, 1, 1]])"
      ]
     },
     "execution_count": 5,
     "metadata": {},
     "output_type": "execute_result"
    }
   ],
   "source": [
    "np.ones((3,4),dtype =int)"
   ]
  },
  {
   "cell_type": "code",
   "execution_count": 9,
   "id": "a5e5bc96",
   "metadata": {},
   "outputs": [
    {
     "data": {
      "text/plain": [
       "array([[94645353855568,              0,   489626271861,   433791696995],\n",
       "       [  498216206368,   468151435365,   476741369968,   416611827826],\n",
       "       [  450971566194,   519691042924,   502511173664,   416611827822],\n",
       "       [  416611827830,   463856468073,   420906795105,   433791697004]])"
      ]
     },
     "execution_count": 9,
     "metadata": {},
     "output_type": "execute_result"
    }
   ],
   "source": [
    "np.empty((4,4),dtype = int)"
   ]
  },
  {
   "cell_type": "code",
   "execution_count": 10,
   "id": "95a03ac1",
   "metadata": {},
   "outputs": [],
   "source": [
    "l = [[1,2,3],[3,4,5]]\n"
   ]
  },
  {
   "cell_type": "code",
   "execution_count": 13,
   "id": "f83f561b",
   "metadata": {},
   "outputs": [
    {
     "data": {
      "text/plain": [
       "array([[1, 2, 3],\n",
       "       [3, 4, 5]])"
      ]
     },
     "execution_count": 13,
     "metadata": {},
     "output_type": "execute_result"
    }
   ],
   "source": [
    "narr =  np.array(l)\n",
    "narr"
   ]
  },
  {
   "cell_type": "code",
   "execution_count": 15,
   "id": "6d6d5dba",
   "metadata": {},
   "outputs": [
    {
     "data": {
      "text/plain": [
       "array([0, 0, 0, 0, 1, 0, 0, 0, 0, 0])"
      ]
     },
     "execution_count": 15,
     "metadata": {},
     "output_type": "execute_result"
    }
   ],
   "source": [
    "nzero = np.zeros(10,dtype = int)\n",
    "nzero[4] = 1\n",
    "nzero"
   ]
  },
  {
   "cell_type": "code",
   "execution_count": 17,
   "id": "7a9a9ea6",
   "metadata": {},
   "outputs": [
    {
     "data": {
      "text/plain": [
       "(4,)"
      ]
     },
     "execution_count": 17,
     "metadata": {},
     "output_type": "execute_result"
    }
   ],
   "source": [
    "a = np.array([0,1,2,3])\n",
    "a.shape\n"
   ]
  },
  {
   "cell_type": "code",
   "execution_count": 22,
   "id": "1632678a",
   "metadata": {},
   "outputs": [
    {
     "data": {
      "text/plain": [
       "array([ 9, 10, 11, 12, 13, 14, 15, 16, 17, 18, 19, 20, 21, 22, 23, 24, 25,\n",
       "       26, 27, 28, 29, 30, 31, 32, 33, 34, 35, 36, 37, 38, 39, 40, 41, 42,\n",
       "       43, 44, 45, 46, 47, 48])"
      ]
     },
     "execution_count": 22,
     "metadata": {},
     "output_type": "execute_result"
    }
   ],
   "source": [
    "a = np.arange(9,49)\n",
    "a"
   ]
  },
  {
   "cell_type": "code",
   "execution_count": 25,
   "id": "9c49bcc2",
   "metadata": {},
   "outputs": [],
   "source": [
    "a  = np.linspace(9,49,dtype = int)"
   ]
  },
  {
   "cell_type": "code",
   "execution_count": 26,
   "id": "5cad0a53",
   "metadata": {},
   "outputs": [
    {
     "data": {
      "text/plain": [
       "array([ 9,  9, 10, 11, 12, 13, 13, 14, 15, 16, 17, 17, 18, 19, 20, 21, 22,\n",
       "       22, 23, 24, 25, 26, 26, 27, 28, 29, 30, 31, 31, 32, 33, 34, 35, 35,\n",
       "       36, 37, 38, 39, 40, 40, 41, 42, 43, 44, 44, 45, 46, 47, 48, 49])"
      ]
     },
     "execution_count": 26,
     "metadata": {},
     "output_type": "execute_result"
    }
   ],
   "source": [
    "a\n"
   ]
  },
  {
   "cell_type": "code",
   "execution_count": 30,
   "id": "ffce4642",
   "metadata": {},
   "outputs": [
    {
     "data": {
      "text/plain": [
       "array([[1., 0., 0., 0., 0., 0.],\n",
       "       [0., 1., 0., 0., 0., 0.],\n",
       "       [0., 0., 1., 0., 0., 0.],\n",
       "       [0., 0., 0., 1., 0., 0.],\n",
       "       [0., 0., 0., 0., 1., 0.]])"
      ]
     },
     "execution_count": 30,
     "metadata": {},
     "output_type": "execute_result"
    }
   ],
   "source": [
    "a = np.eye(5,6)\n",
    "a"
   ]
  },
  {
   "cell_type": "code",
   "execution_count": 34,
   "id": "153cc79d",
   "metadata": {},
   "outputs": [
    {
     "data": {
      "text/plain": [
       "array([1. , 1.5, 2. , 2.5, 3. , 3.5, 4. , 4.5, 5. ])"
      ]
     },
     "execution_count": 34,
     "metadata": {},
     "output_type": "execute_result"
    }
   ],
   "source": [
    "a = np.linspace(1,5,num = 9)\n",
    "a"
   ]
  },
  {
   "cell_type": "code",
   "execution_count": 35,
   "id": "b6a625aa",
   "metadata": {},
   "outputs": [],
   "source": [
    "l = [1,2,0,0,4,0]\n"
   ]
  },
  {
   "cell_type": "code",
   "execution_count": 36,
   "id": "7720d5b0",
   "metadata": {},
   "outputs": [],
   "source": [
    "arr = np.array(l)"
   ]
  },
  {
   "cell_type": "code",
   "execution_count": 41,
   "id": "912150e3",
   "metadata": {},
   "outputs": [
    {
     "name": "stdout",
     "output_type": "stream",
     "text": [
      "(array([0, 1, 4]),)\n"
     ]
    }
   ],
   "source": [
    "print(np.where(arr!=0))"
   ]
  },
  {
   "cell_type": "code",
   "execution_count": 42,
   "id": "b5d8ae10",
   "metadata": {},
   "outputs": [
    {
     "data": {
      "text/plain": [
       "array([ 1,  3,  5,  7,  9, 11, 13, 15, 17, 19])"
      ]
     },
     "execution_count": 42,
     "metadata": {},
     "output_type": "execute_result"
    }
   ],
   "source": [
    "arr = np.arange(1,20,2)\n",
    "arr"
   ]
  },
  {
   "cell_type": "code",
   "execution_count": 43,
   "id": "5d26a6f6",
   "metadata": {},
   "outputs": [
    {
     "name": "stdout",
     "output_type": "stream",
     "text": [
      "(array([1, 4, 7]),)\n"
     ]
    }
   ],
   "source": [
    "print(np.where(arr%3==0))"
   ]
  },
  {
   "cell_type": "code",
   "execution_count": 46,
   "id": "bca636bc",
   "metadata": {},
   "outputs": [
    {
     "data": {
      "text/plain": [
       "(array([0, 2, 4, 6, 8]),)"
      ]
     },
     "execution_count": 46,
     "metadata": {},
     "output_type": "execute_result"
    }
   ],
   "source": [
    "arr = np.arange(1,11,1)\n",
    "\n",
    "indx_arr = np.where(arr%2==1)\n",
    "    \n",
    "indx_arr"
   ]
  },
  {
   "cell_type": "code",
   "execution_count": 47,
   "id": "162f7d56",
   "metadata": {},
   "outputs": [
    {
     "data": {
      "text/plain": [
       "array([-1,  2, -1,  4, -1,  6, -1,  8, -1, 10])"
      ]
     },
     "execution_count": 47,
     "metadata": {},
     "output_type": "execute_result"
    }
   ],
   "source": [
    "for i in indx_arr:\n",
    "    arr[i] = -1\n",
    "arr"
   ]
  },
  {
   "cell_type": "code",
   "execution_count": 76,
   "id": "2a510c5c",
   "metadata": {},
   "outputs": [],
   "source": [
    "l = [1,21,133,4,115,133,27,8,27]\n"
   ]
  },
  {
   "cell_type": "code",
   "execution_count": 77,
   "id": "86b2dc5f",
   "metadata": {},
   "outputs": [],
   "source": [
    "arr = np.array(l)"
   ]
  },
  {
   "cell_type": "code",
   "execution_count": 78,
   "id": "849dd148",
   "metadata": {},
   "outputs": [
    {
     "data": {
      "text/plain": [
       "array([  1,  21,   0,   4, 115, 133,  27,   8,  27])"
      ]
     },
     "execution_count": 78,
     "metadata": {},
     "output_type": "execute_result"
    }
   ],
   "source": [
    "arr[arr.argmax()] = 0\n",
    "arr"
   ]
  },
  {
   "cell_type": "code",
   "execution_count": 79,
   "id": "64027f34",
   "metadata": {},
   "outputs": [
    {
     "data": {
      "text/plain": [
       "array([ 1,  2,  3,  4,  5,  6,  7,  8,  9, 10])"
      ]
     },
     "execution_count": 79,
     "metadata": {},
     "output_type": "execute_result"
    }
   ],
   "source": [
    "arr = np.arange(1,11)\n",
    "arr"
   ]
  },
  {
   "cell_type": "code",
   "execution_count": 93,
   "id": "542e646d",
   "metadata": {},
   "outputs": [
    {
     "data": {
      "text/plain": [
       "array([ 1,  2,  9, 10])"
      ]
     },
     "execution_count": 93,
     "metadata": {},
     "output_type": "execute_result"
    }
   ],
   "source": [
    "arr_bool = arr[(arr<3) | (arr>8)]\n",
    "arr_bool"
   ]
  },
  {
   "cell_type": "code",
   "execution_count": 101,
   "id": "4c90dc7b",
   "metadata": {},
   "outputs": [],
   "source": [
    "age = np.arange(1,21)"
   ]
  },
  {
   "cell_type": "code",
   "execution_count": 104,
   "id": "8db30f4a",
   "metadata": {},
   "outputs": [],
   "source": [
    "height = np.random.randint(30,155,20)"
   ]
  },
  {
   "cell_type": "code",
   "execution_count": 108,
   "id": "70964c76",
   "metadata": {},
   "outputs": [
    {
     "data": {
      "text/plain": [
       "array([136,  80, 154, 150,  35,  92,  33, 106,  30, 144, 140,  97,  50,\n",
       "        38,  88,  78, 127, 112, 117,  81,  71])"
      ]
     },
     "execution_count": 108,
     "metadata": {},
     "output_type": "execute_result"
    }
   ],
   "source": [
    "height\n"
   ]
  },
  {
   "cell_type": "code",
   "execution_count": 111,
   "id": "67b21150",
   "metadata": {},
   "outputs": [],
   "source": [
    "height_bool = np.where(height>100)"
   ]
  },
  {
   "cell_type": "code",
   "execution_count": 114,
   "id": "846d62fc",
   "metadata": {},
   "outputs": [
    {
     "name": "stdout",
     "output_type": "stream",
     "text": [
      "[ 1  3  4  8 10 11 17 18 19]\n"
     ]
    }
   ],
   "source": [
    "print(age[height_bool])"
   ]
  },
  {
   "cell_type": "code",
   "execution_count": 122,
   "id": "8d22ffd9",
   "metadata": {},
   "outputs": [
    {
     "ename": "NameError",
     "evalue": "name 'shape' is not defined",
     "output_type": "error",
     "traceback": [
      "\u001b[0;31m---------------------------------------------------------------------------\u001b[0m",
      "\u001b[0;31mNameError\u001b[0m                                 Traceback (most recent call last)",
      "\u001b[0;32m/tmp/ipykernel_41581/2556899052.py\u001b[0m in \u001b[0;36m<module>\u001b[0;34m\u001b[0m\n\u001b[0;32m----> 1\u001b[0;31m \u001b[0marr\u001b[0m \u001b[0;34m=\u001b[0m \u001b[0mnp\u001b[0m\u001b[0;34m.\u001b[0m\u001b[0marange\u001b[0m\u001b[0;34m(\u001b[0m\u001b[0;36m21\u001b[0m\u001b[0;34m,\u001b[0m\u001b[0;36m1\u001b[0m\u001b[0;34m,\u001b[0m\u001b[0;34m-\u001b[0m\u001b[0;36m1\u001b[0m\u001b[0;34m,\u001b[0m\u001b[0mshape\u001b[0m\u001b[0;34m(\u001b[0m\u001b[0;36m4\u001b[0m\u001b[0;34m,\u001b[0m\u001b[0;36m5\u001b[0m\u001b[0;34m)\u001b[0m\u001b[0;34m)\u001b[0m\u001b[0;34m\u001b[0m\u001b[0;34m\u001b[0m\u001b[0m\n\u001b[0m",
      "\u001b[0;31mNameError\u001b[0m: name 'shape' is not defined"
     ]
    }
   ],
   "source": [
    "arr = np.arange(21,1,-1)"
   ]
  },
  {
   "cell_type": "code",
   "execution_count": 120,
   "id": "99905605",
   "metadata": {},
   "outputs": [],
   "source": []
  },
  {
   "cell_type": "code",
   "execution_count": 125,
   "id": "da94a721",
   "metadata": {},
   "outputs": [
    {
     "data": {
      "text/plain": [
       "array([[21, 20, 19, 18, 17],\n",
       "       [16, 15, 14, 13, 12],\n",
       "       [11, 10,  9,  8,  7],\n",
       "       [ 6,  5,  4,  3,  2]])"
      ]
     },
     "execution_count": 125,
     "metadata": {},
     "output_type": "execute_result"
    }
   ],
   "source": [
    "arr"
   ]
  },
  {
   "cell_type": "code",
   "execution_count": 132,
   "id": "4669a067",
   "metadata": {},
   "outputs": [],
   "source": [
    "bool_arr = arr[arr[:,2].argsort()]"
   ]
  },
  {
   "cell_type": "code",
   "execution_count": 133,
   "id": "c5c4ad30",
   "metadata": {},
   "outputs": [
    {
     "data": {
      "text/plain": [
       "array([[ 6,  5,  4,  3,  2],\n",
       "       [11, 10,  9,  8,  7],\n",
       "       [16, 15, 14, 13, 12],\n",
       "       [21, 20, 19, 18, 17]])"
      ]
     },
     "execution_count": 133,
     "metadata": {},
     "output_type": "execute_result"
    }
   ],
   "source": [
    "bool_arr"
   ]
  },
  {
   "cell_type": "code",
   "execution_count": null,
   "id": "70b5e680",
   "metadata": {},
   "outputs": [],
   "source": []
  },
  {
   "cell_type": "code",
   "execution_count": null,
   "id": "5341d822",
   "metadata": {},
   "outputs": [],
   "source": []
  },
  {
   "cell_type": "code",
   "execution_count": null,
   "id": "472558c4",
   "metadata": {},
   "outputs": [],
   "source": []
  },
  {
   "cell_type": "code",
   "execution_count": null,
   "id": "124e334c",
   "metadata": {},
   "outputs": [],
   "source": [
    "\n",
    "\n",
    "\n",
    "\n",
    "\n"
   ]
  }
 ],
 "metadata": {
  "kernelspec": {
   "display_name": "Python 3 (ipykernel)",
   "language": "python",
   "name": "python3"
  },
  "language_info": {
   "codemirror_mode": {
    "name": "ipython",
    "version": 3
   },
   "file_extension": ".py",
   "mimetype": "text/x-python",
   "name": "python",
   "nbconvert_exporter": "python",
   "pygments_lexer": "ipython3",
   "version": "3.9.7"
  }
 },
 "nbformat": 4,
 "nbformat_minor": 5
}
