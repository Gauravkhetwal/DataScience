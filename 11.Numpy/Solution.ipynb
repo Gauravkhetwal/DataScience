{
 "cells": [
  {
   "cell_type": "code",
   "execution_count": 19,
   "id": "fee5904c",
   "metadata": {},
   "outputs": [
    {
     "data": {
      "text/plain": [
       "array([{'Year': '1970', 'Month': '7', 'Day': '2', 'Country': 'Dominican Republic', 'State': '', 'Region': 'Central America & Caribbean', 'City': 'Santo Domingo', 'Latitude': '18.456792', 'Longitude': '-69.951164', 'AttackType': 'Assassination', 'Killed': '1.0', 'Wounded': '0.0', 'Target': 'Julio Guzman', 'Summary': '', 'Group': 'MANO-D', 'Target_type': 'Private Citizens & Property', 'Weapon_type': 'Unknown'},\n",
       "       {'Year': '1970', 'Month': '0', 'Day': '0', 'Country': 'Mexico', 'State': 'Federal', 'Region': 'North America', 'City': 'Mexico city', 'Latitude': '19.371887', 'Longitude': '-99.086624', 'AttackType': 'Hostage Taking (Kidnapping)', 'Killed': '0.0', 'Wounded': '0.0', 'Target': 'Nadine Chaval, daughter', 'Summary': '', 'Group': '23rd of September Communist League', 'Target_type': 'Government (Diplomatic)', 'Weapon_type': 'Unknown'},\n",
       "       {'Year': '1970', 'Month': '1', 'Day': '0', 'Country': 'Philippines', 'State': 'Tarlac', 'Region': 'Southeast Asia', 'City': 'Unknown', 'Latitude': '15.478598000000002', 'Longitude': '120.599741', 'AttackType': 'Assassination', 'Killed': '1.0', 'Wounded': '0.0', 'Target': 'Employee', 'Summary': '', 'Group': 'Unknown', 'Target_type': 'Journalists & Media', 'Weapon_type': 'Unknown'},\n",
       "       ...,\n",
       "       {'Year': '2017', 'Month': '12', 'Day': '31', 'Country': 'Philippines', 'State': 'Maguindanao', 'Region': 'Southeast Asia', 'City': 'Kubentog', 'Latitude': '6.900742', 'Longitude': '124.43790800000001', 'AttackType': 'Facility/Infrastructure Attack', 'Killed': '0.0', 'Wounded': '0.0', 'Target': 'Houses', 'Summary': '12/31/2017: Assailants set fire to houses in Kubentog, Datu Hoffer, Maguindanao, Philippines. There were no reported casualties in the attack. No group claimed responsibility for the incident; however, sources attributed the attack to the Bangsamoro Islamic Freedom Movement (BIFM).', 'Group': 'Bangsamoro Islamic Freedom Movement (BIFM)', 'Target_type': 'Private Citizens & Property', 'Weapon_type': 'Incendiary'},\n",
       "       {'Year': '2017', 'Month': '12', 'Day': '31', 'Country': 'India', 'State': 'Manipur', 'Region': 'South Asia', 'City': 'Imphal', 'Latitude': '24.798346', 'Longitude': '93.94043', 'AttackType': 'Bombing/Explosion', 'Killed': '0.0', 'Wounded': '0.0', 'Target': 'Office', 'Summary': '12/31/2017: Assailants threw a grenade at a Forest Department office in Mantripukhri neighborhood, Imphal, Manipur, India. No casualties were reported in the blast. No group claimed responsibility for the incident.', 'Group': 'Unknown', 'Target_type': 'Government (General)', 'Weapon_type': 'Explosives'},\n",
       "       {'Year': '2017', 'Month': '12', 'Day': '31', 'Country': 'Philippines', 'State': 'Maguindanao', 'Region': 'Southeast Asia', 'City': 'Cotabato City', 'Latitude': '7.209594', 'Longitude': '124.24196599999999', 'AttackType': 'Bombing/Explosion', 'Killed': '0.0', 'Wounded': '0.0', 'Target': 'Unknown', 'Summary': '12/31/2017: An explosive device was discovered and defused at a plaza in Cotabato City, Maguindanao, Philippines. No group claimed responsibility for the incident.', 'Group': 'Unknown', 'Target_type': 'Unknown', 'Weapon_type': 'Explosives'}],\n",
       "      dtype=object)"
      ]
     },
     "execution_count": 19,
     "metadata": {},
     "output_type": "execute_result"
    }
   ],
   "source": [
    "import csv\n",
    "import numpy as np\n",
    "\n",
    "with open('terrorismData.csv') as file_obj:\n",
    "    file_data = csv.DictReader(file_obj)\n",
    "    file_list = list(file_data)\n",
    "    file_num = np.array(file_list)\n",
    "file_num"
   ]
  },
  {
   "cell_type": "code",
   "execution_count": 3,
   "id": "cc870ba6",
   "metadata": {},
   "outputs": [
    {
     "name": "stdout",
     "output_type": "stream",
     "text": [
      "54643\n"
     ]
    }
   ],
   "source": [
    "count = 0\n",
    "for row in file_num:\n",
    "    if int(row['Day']) > 9 and int(row['Day']) >21 :\n",
    "        count+=1\n",
    "        \n",
    "print(count)"
   ]
  },
  {
   "cell_type": "code",
   "execution_count": 4,
   "id": "476014d7",
   "metadata": {},
   "outputs": [],
   "source": [
    "count = 0\n",
    "for row in file_num:\n",
    "    if int(row['Day']):\n",
    "        count+=1"
   ]
  },
  {
   "cell_type": "code",
   "execution_count": 5,
   "id": "71ba2034",
   "metadata": {},
   "outputs": [
    {
     "data": {
      "text/plain": [
       "180800"
      ]
     },
     "execution_count": 5,
     "metadata": {},
     "output_type": "execute_result"
    }
   ],
   "source": [
    "count"
   ]
  },
  {
   "cell_type": "code",
   "execution_count": 14,
   "id": "51578f8e",
   "metadata": {},
   "outputs": [
    {
     "data": {
      "text/plain": [
       "271"
      ]
     },
     "execution_count": 14,
     "metadata": {},
     "output_type": "execute_result"
    }
   ],
   "source": [
    "numberofattack = 0\n",
    "for row in file_num:\n",
    "    if ((row['Year']== '2010') & (row['Month'] == '1')) & ((int(row['Day'])>=1) & (int(row['Day'])<=31)):\n",
    "        numberofattack +=1\n",
    "numberofattack"
   ]
  },
  {
   "cell_type": "code",
   "execution_count": 7,
   "id": "c1aa1c28",
   "metadata": {},
   "outputs": [
    {
     "name": "stdout",
     "output_type": "stream",
     "text": [
      "300\n",
      "Unknown\n",
      "Unknown\n",
      "1999 6 Sub-Saharan Africa\n"
     ]
    }
   ],
   "source": [
    "    casuality = 0\n",
    "    city = ''\n",
    "    TerroistGroup = ''\n",
    "\n",
    "for row in file_num:\n",
    "    if (int(row['Year']) ==  1999) and (int(row['Month'])>4 and int(row['Month'])<8) and row['Killed'] != '' and row['Wounded'] != '':\n",
    "        if casuality < (int(float(row['Killed'])) + int(float(row['Wounded']))):\n",
    "            casuality = max(int(float(row['Killed']))+ int(float(row['Wounded'])),casuality)\n",
    "            city = row['City']\n",
    "            TerroistGroup = row['Group']\n",
    "            y = row['Year']\n",
    "            m = row['Month']\n",
    "            r = row['Region']\n",
    "            \n",
    "print(casuality)\n",
    "print(city)\n",
    "print(TerroistGroup)\n",
    "print(y,m,r)\n",
    "    "
   ]
  },
  {
   "cell_type": "code",
   "execution_count": 2,
   "id": "0f446df5",
   "metadata": {},
   "outputs": [
    {
     "name": "stdout",
     "output_type": "stream",
     "text": [
      "22 Kargil District Separatists "
     ]
    }
   ],
   "source": [
    "import csv\n",
    "import numpy as np\n",
    "\n",
    "with open('terrorismData.csv',encoding=\"utf8\") as file_obj:\n",
    "    file_data = csv.DictReader(file_obj)\n",
    "    file_list = list(file_data)\n",
    "    city =[]\n",
    "    Group = []\n",
    "    Killed = []\n",
    "    Wounded = []\n",
    "    state = []\n",
    "    for row in file_list:\n",
    "        if (row['State'] =='Jammu and Kashmir') & (row['Year'] =='1999') & (int(row['Month'])>=5) & (int(row['Month'])<=7):\n",
    "            Killed.append(row['Killed'])\n",
    "            Group.append(row['Group'])\n",
    "            Wounded.append(row['Wounded'])\n",
    "            city.append(row['City'])\n",
    "            state.append(row['State'])\n",
    "            \n",
    "            \n",
    "    npkilled = np.array(Killed)\n",
    "    npgroup = np.array(Group)\n",
    "    npwounded = np.array(Wounded)\n",
    "    npcity = np.array(city)\n",
    "    npstate = np.array(state)\n",
    "    npkilled[npkilled == ''] ='0.0'\n",
    "    npwounded[npwounded == ''] = '0.0'\n",
    "    \n",
    "    npkilled = np.array(npkilled,dtype = float)\n",
    "    npkilled = np.array(npkilled,dtype = int)\n",
    "    npwounded = np.array(npwounded ,dtype = float)\n",
    "    npwounded = np.array(npwounded,dtype = int)\n",
    "    \n",
    "    \n",
    "    \n",
    "    npcasuality = npkilled + npwounded\n",
    "    indx = np.where(npcasuality == npcasuality.max())\n",
    "    print(npcasuality.max(),end=' ')\n",
    "    for i in npcity[indx]:\n",
    "        print(i,end=\" \")\n",
    "    for i in npgroup[indx]:\n",
    "        print(i,end=\" \")    \n",
    "    #for i in npcity[indx]:\n",
    "        \n",
    "    "
   ]
  },
  {
   "cell_type": "code",
   "execution_count": null,
   "id": "7bad891f",
   "metadata": {},
   "outputs": [],
   "source": []
  },
  {
   "cell_type": "code",
   "execution_count": null,
   "id": "26bb6a2a",
   "metadata": {},
   "outputs": [],
   "source": []
  },
  {
   "cell_type": "code",
   "execution_count": 5,
   "id": "d4e74e81",
   "metadata": {},
   "outputs": [
    {
     "name": "stdout",
     "output_type": "stream",
     "text": [
      "5628\n"
     ]
    }
   ],
   "source": [
    "killed = []\n",
    "wounded = []\n",
    "for row in file_list:\n",
    "    if (row['State'] == 'Jharkhand') or (row['State'] == 'Odisha') or (row['State'] == 'Andhra Pradesh') or (row['State'] == 'Chhattisgarh'):\n",
    "        killed.append(row['Killed'])\n",
    "        wounded.append(row['Wounded'])\n",
    "    \n",
    "npkilled = np.array(killed)\n",
    "npwounded = np.array(wounded)\n",
    "\n",
    "npkilled[npkilled==''] = '0.0'\n",
    "npwounded[npwounded==''] = '0.0'\n",
    "\n",
    "npkilled = np.array(npkilled,dtype = float)\n",
    "\n",
    "npkilled = np.array(npkilled,dtype = int)\n",
    "npwounded = np.array(npwounded,dtype = float)\n",
    "npwounded = np.array(npwounded,dtype = int)\n",
    "    \n",
    "casuality = npkilled + npwounded\n",
    "    \n",
    "print(casuality.sum())"
   ]
  },
  {
   "cell_type": "code",
   "execution_count": 13,
   "id": "a650e610",
   "metadata": {},
   "outputs": [],
   "source": [
    "killed = []\n",
    "wounded = []\n",
    "city= []\n",
    "for row in file_list:\n",
    "    if row['Country']=='India' :\n",
    "        killed.append(row['Killed'])\n",
    "        wounded.append(row['Wounded'])\n",
    "        city.append(row['City'])\n",
    "    \n",
    "npkilled = np.array(killed)\n",
    "npwounded = np.array(wounded)\n",
    "npcity = np.array(city)\n",
    "npkilled[npkilled==''] = '0.0'\n",
    "npwounded[npwounded==''] = '0.0'\n",
    "npkilled = np.array(npkilled,dtype = float)\n",
    "\n",
    "npkilled = np.array(npkilled,dtype = int)\n",
    "npwounded = np.array(npwounded,dtype = float)\n",
    "npwounded = np.array(npwounded,dtype = int)\n",
    "    \n",
    "casuality = npkilled + npwounded\n",
    "dic_city = {}\n",
    "for i in range(0,len(npcity)):\n",
    "    dic_city[npcity[i]] = dic_city.get(npcity[i],0) + casuality[i]\n",
    "\n",
    "\n",
    "key = list(dic_city.keys())\n",
    "val = list(dic_city.values())\n",
    "val.sort()\n",
    "\n",
    "\n",
    "\n",
    "\n",
    "\n",
    "\n",
    "\n",
    "    "
   ]
  },
  {
   "cell_type": "code",
   "execution_count": null,
   "id": "5dfd0a01",
   "metadata": {},
   "outputs": [],
   "source": []
  },
  {
   "cell_type": "code",
   "execution_count": 19,
   "id": "959c0014",
   "metadata": {},
   "outputs": [
    {
     "name": "stdout",
     "output_type": "stream",
     "text": [
      "Srinagar 3134\n",
      "New Delhi 2095\n",
      "Mumbai 2016\n",
      "Jammu 1119\n",
      "Guwahati 822\n"
     ]
    }
   ],
   "source": [
    "count = 1\n",
    "for i in val[-1::-1]:\n",
    "    for j in dic_city:\n",
    "        if (dic_city[j] ==i and j!='Unknown'):\n",
    "            if(count<=5):\n",
    "                print(j,i)\n",
    "                count+=1\n",
    "            else:\n",
    "                break\n",
    "        "
   ]
  },
  {
   "cell_type": "code",
   "execution_count": 26,
   "id": "68d2b600",
   "metadata": {},
   "outputs": [
    {
     "name": "stdout",
     "output_type": "stream",
     "text": [
      "15 6500\n"
     ]
    }
   ],
   "source": [
    "day = []\n",
    "for row in file_list:\n",
    "    day.append(row['Day'])\n",
    "\n",
    "npday = np.array(day)\n",
    "value,count = np.unique(npday,return_counts = True)\n",
    "b = count.max()\n",
    "indx = np.where(count == b)\n",
    "print(int(value[indx]),b)"
   ]
  },
  {
   "cell_type": "code",
   "execution_count": null,
   "id": "e9e54805",
   "metadata": {},
   "outputs": [],
   "source": []
  },
  {
   "cell_type": "code",
   "execution_count": null,
   "id": "12d3883f",
   "metadata": {},
   "outputs": [],
   "source": []
  },
  {
   "cell_type": "code",
   "execution_count": null,
   "id": "7f664ddb",
   "metadata": {},
   "outputs": [],
   "source": []
  },
  {
   "cell_type": "code",
   "execution_count": null,
   "id": "ef1a63f6",
   "metadata": {},
   "outputs": [],
   "source": []
  },
  {
   "cell_type": "code",
   "execution_count": null,
   "id": "64360546",
   "metadata": {},
   "outputs": [],
   "source": []
  },
  {
   "cell_type": "code",
   "execution_count": null,
   "id": "15759a2e",
   "metadata": {},
   "outputs": [],
   "source": []
  }
 ],
 "metadata": {
  "kernelspec": {
   "display_name": "Python 3 (ipykernel)",
   "language": "python",
   "name": "python3"
  },
  "language_info": {
   "codemirror_mode": {
    "name": "ipython",
    "version": 3
   },
   "file_extension": ".py",
   "mimetype": "text/x-python",
   "name": "python",
   "nbconvert_exporter": "python",
   "pygments_lexer": "ipython3",
   "version": "3.9.7"
  }
 },
 "nbformat": 4,
 "nbformat_minor": 5
}
